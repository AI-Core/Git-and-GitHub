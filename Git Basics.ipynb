{
 "metadata": {
  "language_info": {
   "codemirror_mode": {
    "name": "ipython",
    "version": 3
   },
   "file_extension": ".py",
   "mimetype": "text/x-python",
   "name": "python",
   "nbconvert_exporter": "python",
   "pygments_lexer": "ipython3",
   "version": 3
  },
  "orig_nbformat": 2
 },
 "nbformat": 4,
 "nbformat_minor": 2,
 "cells": [
  {
   "cell_type": "markdown",
   "metadata": {},
   "source": [
    "## Types of commit\n",
    "\n",
    "### Merge Commit\n",
    "So let's say we're working on a feature-branch which we want to merge into master and we've made a couple of commits on this feature branch. When we merge it into master, the commit history on master now runs sequentially in time order of commits. For example:\n",
    "\n",
    "Master commit history (before merge):\n",
    "- commit A - 24 hours ago\n",
    "- commit B - 20 hours ago\n",
    "- commit C - 15 hours ago\n",
    "\n",
    "Feature-branch commit history (before merge):\n",
    "- commit fA - 18 hours ago\n",
    "- commit fB - 12 hours ago\n",
    "\n",
    "Master commit history (after merge):\n",
    "- commit A - 24 hours ago\n",
    "- commit B - 20 hours ago\n",
    "- commit fA - 18 hours ago\n",
    "- commit C - 15 hours ago\n",
    "- commit fB - 12 hours ago\n",
    "- commit MERGE - now.\n",
    "\n",
    "The merge message will be something like: Merge pull request from feature-branch\n",
    "\n",
    "### Squash and Merge\n",
    "Squash and merge allows you to 'squash' all your commits from your feature-branch into one commit, and then have that one commit written into master's commit history. With the same pre-merge commit history for master and feature-branch as above,\n",
    "\n",
    "Master commit history (after merge):\n",
    "- commit A - 24 hours ago\n",
    "- commit B - 20 hours ago\n",
    "- commit C - 15 hours ago\n",
    "- commit MERGE - <Custom squash merge message> - Now.\n",
    "\n",
    "This MERGE commit will allow you to track down all the commits from feature-branch\n",
    "\n",
    "### Rebase and Merge\n",
    "My personal opinion is that this one is kinda iffy because it 'rewrites' the history. Imagine the following: you create a feature-branch from master, make some commits and open a PR (as usual). Now, when you rebase and merge, you're not interweaving the your feature-branch's commit history with master. What you're instead doing is adding all your changes on top of whatever is currently at the HEAD of master - irregardless of time. With the pre-merge commit histories as above:\n",
    "\n",
    "Master commit history (after merge):\n",
    "- commit A - 24 hours ago\n",
    "- commit B - 20 hours ago\n",
    "- commit C - 15 hours ago\n",
    "- commit fA - 18 hours ago\n",
    "- commit fB - 12 hours ago\n",
    "- commit MERGE - now.\n",
    "\n",
    "All in all, I would recommend to stick with either the first two options. In my last workplace we used squash and merge to retain a cleaner. Squash merges lead to a cleaner master commit history, whereas merge commits are more verbose and explicit"
   ]
  },
  {
   "cell_type": "code",
   "execution_count": null,
   "metadata": {},
   "outputs": [],
   "source": []
  }
 ]
}